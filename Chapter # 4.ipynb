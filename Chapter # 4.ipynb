{
 "cells": [
  {
   "cell_type": "markdown",
   "metadata": {},
   "source": [
    "Number guessing Game!!"
   ]
  },
  {
   "cell_type": "code",
   "execution_count": 1,
   "metadata": {},
   "outputs": [],
   "source": [
    "from random import randint"
   ]
  },
  {
   "cell_type": "code",
   "execution_count": 16,
   "metadata": {},
   "outputs": [
    {
     "name": "stdout",
     "output_type": "stream",
     "text": [
      "Enter your guess: 2\n",
      "Correct Guess\n"
     ]
    }
   ],
   "source": [
    "num = randint(1,10)\n",
    "guess = int(input(\"Enter your guess: \"))\n",
    "if guess == num:\n",
    "    print('Correct Guess')\n",
    "else:\n",
    "    print('Try Again')"
   ]
  },
  {
   "cell_type": "markdown",
   "metadata": {},
   "source": [
    "Write a program that asks the user to enter a length in centimeters. If the user enters a negative\n",
    "length, the program should tell the user that the entry is invalid. Otherwise, the program\n",
    "should convert the length to inches and print out the result. There are 2.54 centimeters in an\n",
    "inch."
   ]
  },
  {
   "cell_type": "code",
   "execution_count": 19,
   "metadata": {},
   "outputs": [
    {
     "name": "stdout",
     "output_type": "stream",
     "text": [
      "Enter Centimeters: 50\n",
      "Length in inches: 19.68503937007874\n"
     ]
    }
   ],
   "source": [
    "cm = int(input('Enter Centimeters: '))\n",
    "\n",
    "if cm < 0:\n",
    "    print('Invalid Entry')\n",
    "else:\n",
    "    print(f'Length in inches: {cm/2.54}')"
   ]
  },
  {
   "cell_type": "code",
   "execution_count": 20,
   "metadata": {},
   "outputs": [
    {
     "name": "stdout",
     "output_type": "stream",
     "text": [
      "Enter Centimeters: -10\n",
      "Invalid Entry\n"
     ]
    }
   ],
   "source": [
    "cm = int(input('Enter Centimeters: '))\n",
    "\n",
    "if cm < 0:\n",
    "    print('Invalid Entry')\n",
    "else:\n",
    "    print(f'Length in inches: {cm/2.54}')"
   ]
  },
  {
   "cell_type": "markdown",
   "metadata": {},
   "source": [
    "Ask the user for a temperature. Then ask them what units, Celsius or Fahrenheit, the temperature\n",
    "is in. Your program should convert the temperature to the other unit."
   ]
  },
  {
   "cell_type": "code",
   "execution_count": 30,
   "metadata": {},
   "outputs": [
    {
     "name": "stdout",
     "output_type": "stream",
     "text": [
      "Enter Temperature: 100\n",
      "Enter Unit (F for Fahrenheit/ C for Celsius): c\n",
      "**************************************************\n",
      "User entered temperature in Celsius.\n",
      "Temperature converted in fahreinheit is 237.6\n"
     ]
    }
   ],
   "source": [
    "temp = int(input('Enter Temperature: '))\n",
    "unit = input('Enter Unit (F for Fahrenheit/ C for Celsius): ').lower()\n",
    "print(\"**************************************************\")\n",
    "if unit == \"f\":\n",
    "    print(\"User entered temperature in Fahrenheit.\")\n",
    "    print(f'Temperature converted in celsius is {(5/9)*(temp-32)}')\n",
    "elif unit == \"c\":\n",
    "    print(\"User entered temperature in Celsius.\")\n",
    "    print(f'Temperature converted in fahreinheit is {(9/5)*(temp+32)}')\n",
    "else:\n",
    "    print('The unit given is invalid.')"
   ]
  },
  {
   "cell_type": "markdown",
   "metadata": {},
   "source": [
    "Ask the user to enter a temperature in Celsius. The program should print a message based\n",
    "on the temperature:\n",
    "• If the temperature is less than -273.15, print that the temperature is invalid because it is\n",
    "below absolute zero.\n",
    "• If it is exactly -273.15, print that the temperature is absolute 0.\n",
    "• If the temperature is between -273.15 and 0, print that the temperature is below freezing.\n",
    "• If it is 0, print that the temperature is at the freezing point.\n",
    "• If it is between 0 and 100, print that the temperature is in the normal range.\n",
    "• If it is 100, print that the temperature is at the boiling point.\n",
    "• If it is above 100, print that the temperature is above the boiling point."
   ]
  },
  {
   "cell_type": "code",
   "execution_count": 41,
   "metadata": {},
   "outputs": [
    {
     "name": "stdout",
     "output_type": "stream",
     "text": [
      "Enter Temperature in Celsius: 102\n",
      "temperature is above boiling point\n"
     ]
    }
   ],
   "source": [
    "temp = float(input('Enter Temperature in Celsius: '))\n",
    "\n",
    "if temp < -273.15:\n",
    "    print('temperature is invalid because it is below absolute zero.')\n",
    "elif temp == -273.15:\n",
    "    print('temperature is absolute 0.')\n",
    "elif temp > -273.15 and temp < 0:\n",
    "    print('temperature is below freezing.')\n",
    "elif temp == 0:\n",
    "    print('temperature is at the freezing point.')\n",
    "elif temp > 0 and temp < 100:\n",
    "    print('temperature is in the normal range.')\n",
    "elif temp == 100:\n",
    "    print('temperature is at boiling point.')\n",
    "else:\n",
    "    print('temperature is above boiling point')"
   ]
  },
  {
   "cell_type": "markdown",
   "metadata": {},
   "source": [
    "Write a program that asks the user how many credits they have taken. If they have taken 23\n",
    "or less, print that the student is a freshman. If they have taken between 24 and 53, print that\n",
    "they are a sophomore. The range for juniors is 54 to 83, and for seniors it is 84 and over."
   ]
  },
  {
   "cell_type": "code",
   "execution_count": 48,
   "metadata": {},
   "outputs": [
    {
     "name": "stdout",
     "output_type": "stream",
     "text": [
      "Enter your credits: 84\n",
      "Student is a senior\n"
     ]
    }
   ],
   "source": [
    "credit = int(input('Enter your credits: '))\n",
    "\n",
    "if credit <= 23:\n",
    "    print('Student is a freshman')\n",
    "elif credit > 23 and credit <54:\n",
    "    print('Student is a sophomore')\n",
    "elif credit > 53 and credit <84:\n",
    "    print('Student is a junior')\n",
    "elif credit > 83:\n",
    "    print('Student is a senior')"
   ]
  },
  {
   "cell_type": "markdown",
   "metadata": {},
   "source": [
    "Generate a random number between 1 and 10. Ask the user to guess the number and print a\n",
    "message based on whether they get it right or not."
   ]
  },
  {
   "cell_type": "code",
   "execution_count": 49,
   "metadata": {},
   "outputs": [
    {
     "name": "stdout",
     "output_type": "stream",
     "text": [
      "Enter your guess: 5\n",
      "Try Again\n"
     ]
    }
   ],
   "source": [
    "num = randint(1,10)\n",
    "guess = int(input(\"Enter your guess: \"))\n",
    "if guess == num:\n",
    "    print('Correct Guess')\n",
    "else:\n",
    "    print('Try Again')"
   ]
  },
  {
   "cell_type": "markdown",
   "metadata": {},
   "source": [
    "A store charges 12 per item if you buy less than 10 items . If you buy between 10 and 99\n",
    "items, the cost is 10 per item. If you buy 100 or more items, the cost is 7 per item. Write a\n",
    "program that asks the user how many items they are buying and prints the total cost."
   ]
  },
  {
   "cell_type": "code",
   "execution_count": 54,
   "metadata": {},
   "outputs": [
    {
     "name": "stdout",
     "output_type": "stream",
     "text": [
      "Enter number of items: 150\n",
      "Number of items: 150\n",
      "Price: 7\n",
      "Total bill: 1050\n"
     ]
    }
   ],
   "source": [
    "items = int(input('Enter number of items: '))\n",
    "\n",
    "if items < 10:\n",
    "    price = 12\n",
    "elif items >=10 and items <= 99:\n",
    "    price = 10\n",
    "else:\n",
    "    price = 7\n",
    "\n",
    "print(f\"Number of items: {items}\")\n",
    "print(f'Price: {price}')\n",
    "print(f'Total bill: {items*price}')"
   ]
  },
  {
   "cell_type": "markdown",
   "metadata": {},
   "source": [
    "Write a program that asks the user for two numbers and prints Close if the numbers are\n",
    "within .001 of each other and Not close otherwise."
   ]
  },
  {
   "cell_type": "code",
   "execution_count": 56,
   "metadata": {},
   "outputs": [
    {
     "name": "stdout",
     "output_type": "stream",
     "text": [
      "Enter number one: 100\n",
      "Enter number two: 100.0001\n",
      "Close\n"
     ]
    }
   ],
   "source": [
    "num1 = float(input(\"Enter number one: \"))\n",
    "num2 = float(input(\"Enter number two: \"))\n",
    "\n",
    "if abs(num1 - num2) <= 0.001:\n",
    "    print('Close')\n",
    "else:\n",
    "    print('Not Close')"
   ]
  },
  {
   "cell_type": "markdown",
   "metadata": {},
   "source": [
    "A year is a leap year if it is divisible by 4, except that years divisible by 100 are not leap years\n",
    "unless they are also divisible by 400. Write a program that asks the user for a year and prints\n",
    "out whether it is a leap year or not."
   ]
  },
  {
   "cell_type": "code",
   "execution_count": 58,
   "metadata": {},
   "outputs": [
    {
     "name": "stdout",
     "output_type": "stream",
     "text": [
      "Enter year: 2000\n",
      "2000 is a leap year.\n"
     ]
    }
   ],
   "source": [
    "year = int(input('Enter year: '))\n",
    "\n",
    "if year%4 == 0:\n",
    "    print(f'{year} is a leap year.')\n",
    "else:\n",
    "    print(f'{year} is not a leap year.')"
   ]
  },
  {
   "cell_type": "markdown",
   "metadata": {},
   "source": [
    "Write a program that asks the user to enter a number and prints out all the divisors of that\n",
    "number."
   ]
  },
  {
   "cell_type": "code",
   "execution_count": 62,
   "metadata": {},
   "outputs": [
    {
     "name": "stdout",
     "output_type": "stream",
     "text": [
      "Enter number: 66\n",
      "2 is a divisor of 66\n",
      "3 is a divisor of 66\n",
      "6 is a divisor of 66\n",
      "11 is a divisor of 66\n",
      "22 is a divisor of 66\n",
      "33 is a divisor of 66\n"
     ]
    }
   ],
   "source": [
    "num = int(input('Enter number: '))\n",
    "\n",
    "for i in range(2, num):\n",
    "    if num%i == 0:\n",
    "        print(f'{i} is a divisor of {num}')"
   ]
  },
  {
   "cell_type": "markdown",
   "metadata": {},
   "source": [
    "Write a multiplication game program for kids. The program should give the player ten randomly\n",
    "generated multiplication questions to do. After each, the program should tell them\n",
    "whether they got it right or wrong and what the correct answer is.\n"
   ]
  },
  {
   "cell_type": "code",
   "execution_count": 2,
   "metadata": {},
   "outputs": [],
   "source": [
    "from random import randint"
   ]
  },
  {
   "cell_type": "code",
   "execution_count": 4,
   "metadata": {},
   "outputs": [
    {
     "name": "stdout",
     "output_type": "stream",
     "text": [
      "Question # 1: 9 x 3\n",
      "Enter your answer: 278\n",
      "Wrong. The answer is 27\n",
      "******************\n",
      "Question # 2: 2 x 7\n",
      "Enter your answer: 14\n",
      "Correct!!\n",
      "******************\n",
      "Question # 3: 4 x 1\n",
      "Enter your answer: 4\n",
      "Correct!!\n",
      "******************\n",
      "Question # 4: 6 x 9\n",
      "Enter your answer: 54\n",
      "Correct!!\n",
      "******************\n",
      "Question # 5: 2 x 9\n",
      "Enter your answer: 18\n",
      "Correct!!\n",
      "******************\n",
      "You got 4 out of 5 correct answers.\n"
     ]
    }
   ],
   "source": [
    "score = 0\n",
    "for i in range(5):\n",
    "    a = randint(1,10)\n",
    "    b = randint(1,10)\n",
    "    print(f'Question # {i+1}: {a} x {b}')\n",
    "    ans = int(input('Enter your answer: '))\n",
    "    if ans == (a*b):\n",
    "        score += 1\n",
    "        print('Correct!!')\n",
    "        print(\"******************\")\n",
    "    else:\n",
    "        print(f'Wrong. The answer is {a*b}')\n",
    "        print(\"******************\")\n",
    "\n",
    "print(f'You got {score} out of 5 correct answers.')"
   ]
  },
  {
   "cell_type": "code",
   "execution_count": null,
   "metadata": {},
   "outputs": [],
   "source": []
  }
 ],
 "metadata": {
  "kernelspec": {
   "display_name": "Python 3",
   "language": "python",
   "name": "python3"
  },
  "language_info": {
   "codemirror_mode": {
    "name": "ipython",
    "version": 3
   },
   "file_extension": ".py",
   "mimetype": "text/x-python",
   "name": "python",
   "nbconvert_exporter": "python",
   "pygments_lexer": "ipython3",
   "version": "3.8.5"
  }
 },
 "nbformat": 4,
 "nbformat_minor": 4
}
