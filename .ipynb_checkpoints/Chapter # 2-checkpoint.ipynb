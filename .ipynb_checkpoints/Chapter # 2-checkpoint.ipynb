{
 "cells": [
  {
   "cell_type": "markdown",
   "metadata": {},
   "source": [
    "# Exercises"
   ]
  },
  {
   "cell_type": "markdown",
   "metadata": {},
   "source": [
    "Write a program that prints your name 100 times.\n",
    "Write a program that outputs 100 lines, numbered 1 to 100, each with your name on it. The\n",
    "output should look like the output below."
   ]
  },
  {
   "cell_type": "code",
   "execution_count": 4,
   "metadata": {},
   "outputs": [
    {
     "name": "stdout",
     "output_type": "stream",
     "text": [
      "1: S.M.Hassan\n",
      "2: S.M.Hassan\n",
      "3: S.M.Hassan\n",
      "4: S.M.Hassan\n",
      "5: S.M.Hassan\n",
      "6: S.M.Hassan\n",
      "7: S.M.Hassan\n",
      "8: S.M.Hassan\n",
      "9: S.M.Hassan\n",
      "10: S.M.Hassan\n",
      "11: S.M.Hassan\n",
      "12: S.M.Hassan\n",
      "13: S.M.Hassan\n",
      "14: S.M.Hassan\n",
      "15: S.M.Hassan\n",
      "16: S.M.Hassan\n",
      "17: S.M.Hassan\n",
      "18: S.M.Hassan\n",
      "19: S.M.Hassan\n",
      "20: S.M.Hassan\n",
      "21: S.M.Hassan\n",
      "22: S.M.Hassan\n",
      "23: S.M.Hassan\n",
      "24: S.M.Hassan\n",
      "25: S.M.Hassan\n",
      "26: S.M.Hassan\n",
      "27: S.M.Hassan\n",
      "28: S.M.Hassan\n",
      "29: S.M.Hassan\n",
      "30: S.M.Hassan\n",
      "31: S.M.Hassan\n",
      "32: S.M.Hassan\n",
      "33: S.M.Hassan\n",
      "34: S.M.Hassan\n",
      "35: S.M.Hassan\n",
      "36: S.M.Hassan\n",
      "37: S.M.Hassan\n",
      "38: S.M.Hassan\n",
      "39: S.M.Hassan\n",
      "40: S.M.Hassan\n",
      "41: S.M.Hassan\n",
      "42: S.M.Hassan\n",
      "43: S.M.Hassan\n",
      "44: S.M.Hassan\n",
      "45: S.M.Hassan\n",
      "46: S.M.Hassan\n",
      "47: S.M.Hassan\n",
      "48: S.M.Hassan\n",
      "49: S.M.Hassan\n",
      "50: S.M.Hassan\n",
      "51: S.M.Hassan\n",
      "52: S.M.Hassan\n",
      "53: S.M.Hassan\n",
      "54: S.M.Hassan\n",
      "55: S.M.Hassan\n",
      "56: S.M.Hassan\n",
      "57: S.M.Hassan\n",
      "58: S.M.Hassan\n",
      "59: S.M.Hassan\n",
      "60: S.M.Hassan\n",
      "61: S.M.Hassan\n",
      "62: S.M.Hassan\n",
      "63: S.M.Hassan\n",
      "64: S.M.Hassan\n",
      "65: S.M.Hassan\n",
      "66: S.M.Hassan\n",
      "67: S.M.Hassan\n",
      "68: S.M.Hassan\n",
      "69: S.M.Hassan\n",
      "70: S.M.Hassan\n",
      "71: S.M.Hassan\n",
      "72: S.M.Hassan\n",
      "73: S.M.Hassan\n",
      "74: S.M.Hassan\n",
      "75: S.M.Hassan\n",
      "76: S.M.Hassan\n",
      "77: S.M.Hassan\n",
      "78: S.M.Hassan\n",
      "79: S.M.Hassan\n",
      "80: S.M.Hassan\n",
      "81: S.M.Hassan\n",
      "82: S.M.Hassan\n",
      "83: S.M.Hassan\n",
      "84: S.M.Hassan\n",
      "85: S.M.Hassan\n",
      "86: S.M.Hassan\n",
      "87: S.M.Hassan\n",
      "88: S.M.Hassan\n",
      "89: S.M.Hassan\n",
      "90: S.M.Hassan\n",
      "91: S.M.Hassan\n",
      "92: S.M.Hassan\n",
      "93: S.M.Hassan\n",
      "94: S.M.Hassan\n",
      "95: S.M.Hassan\n",
      "96: S.M.Hassan\n",
      "97: S.M.Hassan\n",
      "98: S.M.Hassan\n",
      "99: S.M.Hassan\n",
      "100: S.M.Hassan\n"
     ]
    }
   ],
   "source": [
    "for i in range(100):\n",
    "    print(i+1,\": S.M.Hassan\", sep=\"\")"
   ]
  },
  {
   "cell_type": "markdown",
   "metadata": {},
   "source": [
    "Write a program to fill the screen horizontally and vertically with your name. [Hint: add the\n",
    "option end='' into the print function to fill the screen horizontally.]"
   ]
  },
  {
   "cell_type": "code",
   "execution_count": 10,
   "metadata": {},
   "outputs": [
    {
     "name": "stdout",
     "output_type": "stream",
     "text": [
      "S.M.Hassan S.M.Hassan S.M.Hassan S.M.Hassan S.M.Hassan S.M.Hassan S.M.Hassan S.M.Hassan S.M.Hassan S.M.Hassan S.M.Hassan S.M.Hassan S.M.Hassan S.M.Hassan S.M.Hassan S.M.Hassan S.M.Hassan S.M.Hassan S.M.Hassan S.M.Hassan S.M.Hassan S.M.Hassan S.M.Hassan S.M.Hassan S.M.Hassan S.M.Hassan S.M.Hassan S.M.Hassan S.M.Hassan S.M.Hassan S.M.Hassan S.M.Hassan S.M.Hassan S.M.Hassan S.M.Hassan S.M.Hassan S.M.Hassan S.M.Hassan S.M.Hassan S.M.Hassan S.M.Hassan S.M.Hassan S.M.Hassan S.M.Hassan S.M.Hassan S.M.Hassan S.M.Hassan S.M.Hassan S.M.Hassan S.M.Hassan S.M.Hassan S.M.Hassan S.M.Hassan S.M.Hassan S.M.Hassan S.M.Hassan S.M.Hassan S.M.Hassan S.M.Hassan S.M.Hassan S.M.Hassan S.M.Hassan S.M.Hassan S.M.Hassan S.M.Hassan S.M.Hassan S.M.Hassan S.M.Hassan S.M.Hassan S.M.Hassan S.M.Hassan S.M.Hassan S.M.Hassan S.M.Hassan S.M.Hassan S.M.Hassan S.M.Hassan S.M.Hassan S.M.Hassan S.M.Hassan S.M.Hassan S.M.Hassan S.M.Hassan S.M.Hassan S.M.Hassan S.M.Hassan S.M.Hassan S.M.Hassan S.M.Hassan S.M.Hassan S.M.Hassan S.M.Hassan S.M.Hassan S.M.Hassan S.M.Hassan S.M.Hassan S.M.Hassan S.M.Hassan S.M.Hassan S.M.Hassan S.M.Hassan S.M.Hassan "
     ]
    }
   ],
   "source": [
    "for i in range(102):\n",
    "    print(\"S.M.Hassan\",end=\" \")"
   ]
  },
  {
   "cell_type": "markdown",
   "metadata": {},
   "source": [
    "Write a program that prints out a list of the integers from 1 to 20 and their squares."
   ]
  },
  {
   "cell_type": "code",
   "execution_count": 11,
   "metadata": {},
   "outputs": [
    {
     "name": "stdout",
     "output_type": "stream",
     "text": [
      "1---1\n",
      "2---4\n",
      "3---9\n",
      "4---16\n",
      "5---25\n",
      "6---36\n",
      "7---49\n",
      "8---64\n",
      "9---81\n",
      "10---100\n",
      "11---121\n",
      "12---144\n",
      "13---169\n",
      "14---196\n",
      "15---225\n",
      "16---256\n",
      "17---289\n",
      "18---324\n",
      "19---361\n",
      "20---400\n"
     ]
    }
   ],
   "source": [
    "for i in range(20):\n",
    "    print(i+1, (i+1)**2,sep='---')"
   ]
  },
  {
   "cell_type": "markdown",
   "metadata": {},
   "source": [
    "Write a program that uses a for loop to print the numbers 8, 11, 14, 17, 20, . . . , 83, 86, 89."
   ]
  },
  {
   "cell_type": "code",
   "execution_count": 15,
   "metadata": {},
   "outputs": [
    {
     "name": "stdout",
     "output_type": "stream",
     "text": [
      "8 11 14 17 20 23 26 29 32 35 38 41 44 47 50 53 56 59 62 65 68 71 74 77 80 83 86 89 "
     ]
    }
   ],
   "source": [
    "for i in range(8,90,3):\n",
    "    print(i,end=\" \")"
   ]
  },
  {
   "cell_type": "markdown",
   "metadata": {},
   "source": [
    "Write a program that uses a for loop to print the numbers 100, 98, 96, . . . , 4, 2."
   ]
  },
  {
   "cell_type": "code",
   "execution_count": 14,
   "metadata": {},
   "outputs": [
    {
     "name": "stdout",
     "output_type": "stream",
     "text": [
      "100 98 96 94 92 90 88 86 84 82 80 78 76 74 72 70 68 66 64 62 60 58 56 54 52 50 48 46 44 42 40 38 36 34 32 30 28 26 24 22 20 18 16 14 12 10 8 6 4 2 "
     ]
    }
   ],
   "source": [
    "for i in range(100,0,-2):\n",
    "    print(i,end=\" \")"
   ]
  },
  {
   "cell_type": "markdown",
   "metadata": {},
   "source": [
    "Write a program that uses exactly four for loops to print the sequence of letters below.\n",
    "AAAAAAAAAABBBBBBBCDCDCDCDEFFFFFFG"
   ]
  },
  {
   "cell_type": "code",
   "execution_count": 16,
   "metadata": {},
   "outputs": [
    {
     "name": "stdout",
     "output_type": "stream",
     "text": [
      "AAAAAAAAAABBBBBBBCDCDCDCDEFFFFFFG"
     ]
    }
   ],
   "source": [
    "for i in range(10):\n",
    "    print(\"A\",end=\"\")\n",
    "for i in range(7):\n",
    "    print(\"B\",end=\"\")\n",
    "for i in range(4):\n",
    "    print(\"C\",end=\"\")\n",
    "    print(\"D\",end=\"\")\n",
    "print(\"E\",end=\"\")\n",
    "for i in range(6):\n",
    "    print(\"F\",end=\"\")\n",
    "print(\"G\",end=\"\")"
   ]
  },
  {
   "cell_type": "markdown",
   "metadata": {},
   "source": [
    "Write a program that asks the user for their name and how many times to print it. The program\n",
    "should print out the user’s name the specified number of times."
   ]
  },
  {
   "cell_type": "code",
   "execution_count": 2,
   "metadata": {},
   "outputs": [
    {
     "name": "stdout",
     "output_type": "stream",
     "text": [
      "Enter name: Hsn\n",
      "Enter number of times to print: 5\n",
      "1: Hsn\n",
      "2: Hsn\n",
      "3: Hsn\n",
      "4: Hsn\n",
      "5: Hsn\n"
     ]
    }
   ],
   "source": [
    "useRnamE = input('Enter name: ')\n",
    "time = int(input('Enter number of times to print: '))\n",
    "\n",
    "for i in range(time):\n",
    "    print(i + 1,\": \", useRnamE, sep=\"\")"
   ]
  },
  {
   "cell_type": "markdown",
   "metadata": {},
   "source": [
    "The Fibonacci numbers are the sequence below, where the first two numbers are 1, and each\n",
    "number thereafter is the sum of the two preceding numbers. Write a program that asks the\n",
    "user how many Fibonacci numbers to print and then prints that many.\n",
    "1, 1, 2, 3, 5, 8, 13, 21, 34, 55, 89 . . ."
   ]
  },
  {
   "cell_type": "code",
   "execution_count": 6,
   "metadata": {},
   "outputs": [
    {
     "name": "stdout",
     "output_type": "stream",
     "text": [
      "Enter number of Fibonacci to be print: 9\n",
      "1 1 2 3 5 8 13 21 34 55 89 "
     ]
    }
   ],
   "source": [
    "num = int(input('Enter number of Fibonacci to be print: '))\n",
    "list1 = [1,1]\n",
    "\n",
    "for i in range(num):\n",
    "    list1.append(list1[-1]+ list1[-2])\n",
    "\n",
    "for i in list1:\n",
    "    print(i, end=\" \")\n"
   ]
  },
  {
   "cell_type": "markdown",
   "metadata": {},
   "source": [
    "Use a for loop to print a box like the one below. Allow the user to specify how wide and how\n",
    "high the box should be.\n",
    "Hint: print(\"*\"*10) prints ten asterisks."
   ]
  },
  {
   "cell_type": "code",
   "execution_count": 7,
   "metadata": {},
   "outputs": [
    {
     "name": "stdout",
     "output_type": "stream",
     "text": [
      "Enter height of the box: 5\n",
      "Enter width of the box: 10\n",
      "**********\n",
      "**********\n",
      "**********\n",
      "**********\n",
      "**********\n"
     ]
    }
   ],
   "source": [
    "high = int(input(\"Enter height of the box: \"))\n",
    "wide = int(input(\"Enter width of the box: \"))\n",
    "\n",
    "for i in range(high):\n",
    "    print(\"*\"*wide)\n",
    "\n"
   ]
  },
  {
   "cell_type": "markdown",
   "metadata": {},
   "source": [
    "Use a for loop to print a box like the one below. Allow the user to specify how wide and how\n",
    "high the box should be."
   ]
  },
  {
   "cell_type": "code",
   "execution_count": 9,
   "metadata": {},
   "outputs": [
    {
     "name": "stdout",
     "output_type": "stream",
     "text": [
      "Enter height of the box: 5\n",
      "Enter width of the box: 10\n",
      "**********\n",
      "*        *\n",
      "*        *\n",
      "*        *\n",
      "**********\n"
     ]
    }
   ],
   "source": [
    "high = int(input(\"Enter height of the box: \"))\n",
    "wide = int(input(\"Enter width of the box: \"))\n",
    "\n",
    "for i in range(high):\n",
    "    if i == 0:\n",
    "        print(\"*\"*wide)\n",
    "    elif i == (high-1):\n",
    "        print(\"*\"*wide)\n",
    "    else:\n",
    "        print(\"*\",\" \"*(wide-2),\"*\",sep=\"\")\n",
    "        \n"
   ]
  },
  {
   "cell_type": "markdown",
   "metadata": {},
   "source": [
    "Use a for loop to print a triangle like the one below. Allow the user to specify how high the\n",
    "triangle should be."
   ]
  },
  {
   "cell_type": "code",
   "execution_count": 10,
   "metadata": {},
   "outputs": [
    {
     "name": "stdout",
     "output_type": "stream",
     "text": [
      "Enter height of the triangle: 5\n",
      "*\n",
      "**\n",
      "***\n",
      "****\n",
      "*****\n"
     ]
    }
   ],
   "source": [
    "high = int(input(\"Enter height of the triangle: \"))\n",
    "\n",
    "for i in range(high):\n",
    "    print(\"*\"*(i+1))\n",
    "\n"
   ]
  },
  {
   "cell_type": "markdown",
   "metadata": {},
   "source": [
    "Use a for loop to print an upside down triangle like the one below. Allow the user to specify\n",
    "how high the triangle should be."
   ]
  },
  {
   "cell_type": "code",
   "execution_count": 11,
   "metadata": {},
   "outputs": [
    {
     "name": "stdout",
     "output_type": "stream",
     "text": [
      "Enter height of the triangle: 5\n",
      "*****\n",
      "****\n",
      "***\n",
      "**\n",
      "*\n"
     ]
    }
   ],
   "source": [
    "high = int(input(\"Enter height of the triangle: \"))\n",
    "\n",
    "for i in range(high):\n",
    "    print(\"*\"*(high-i))\n",
    "\n"
   ]
  },
  {
   "cell_type": "code",
   "execution_count": 21,
   "metadata": {},
   "outputs": [
    {
     "name": "stdout",
     "output_type": "stream",
     "text": [
      "Enter height of Diamond: 11\n",
      "     *     \n",
      "    ***    \n",
      "   *****   \n",
      "  *******  \n",
      " ********* \n",
      "***********\n",
      " ********* \n",
      "  *******  \n",
      "   *****   \n",
      "    ***    \n",
      "     *     \n"
     ]
    }
   ],
   "source": [
    "list2= []\n",
    "high = int(input(\"Enter height of Diamond: \"))\n",
    "\n",
    "for i in range(high):\n",
    "    if list2 == []:\n",
    "        list2.append(1)\n",
    "    elif i < (high/2):\n",
    "        list2.append(list2[-1]+2)\n",
    "    else:\n",
    "        list2.append(list2[-1]-2)\n",
    "        \n",
    "for i in list2:\n",
    "    print(\" \"*(int((high-i)/2)),i*\"*\",\" \"*(int((high-i)/2)),sep=\"\")"
   ]
  }
 ],
 "metadata": {
  "kernelspec": {
   "display_name": "Python 3",
   "language": "python",
   "name": "python3"
  },
  "language_info": {
   "codemirror_mode": {
    "name": "ipython",
    "version": 3
   },
   "file_extension": ".py",
   "mimetype": "text/x-python",
   "name": "python",
   "nbconvert_exporter": "python",
   "pygments_lexer": "ipython3",
   "version": "3.8.5"
  }
 },
 "nbformat": 4,
 "nbformat_minor": 4
}
