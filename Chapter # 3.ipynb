{
 "cells": [
  {
   "cell_type": "markdown",
   "metadata": {},
   "source": [
    "Random Numbers"
   ]
  },
  {
   "cell_type": "code",
   "execution_count": 16,
   "metadata": {},
   "outputs": [
    {
     "data": {
      "text/plain": [
       "5"
      ]
     },
     "execution_count": 16,
     "metadata": {},
     "output_type": "execute_result"
    }
   ],
   "source": [
    "from random import randint\n",
    "x = randint(1,10)\n",
    "x"
   ]
  },
  {
   "cell_type": "code",
   "execution_count": 14,
   "metadata": {},
   "outputs": [
    {
     "data": {
      "text/plain": [
       "3"
      ]
     },
     "execution_count": 14,
     "metadata": {},
     "output_type": "execute_result"
    }
   ],
   "source": [
    "x = randint(1,10)\n",
    "x"
   ]
  },
  {
   "cell_type": "code",
   "execution_count": 17,
   "metadata": {},
   "outputs": [
    {
     "data": {
      "text/plain": [
       "9"
      ]
     },
     "execution_count": 17,
     "metadata": {},
     "output_type": "execute_result"
    }
   ],
   "source": [
    "x = randint(1,10)\n",
    "x"
   ]
  },
  {
   "cell_type": "markdown",
   "metadata": {},
   "source": [
    "Write a program that generates and prints 50 random integers, each between 3 and 6."
   ]
  },
  {
   "cell_type": "code",
   "execution_count": 19,
   "metadata": {},
   "outputs": [
    {
     "name": "stdout",
     "output_type": "stream",
     "text": [
      "1 : 5\n",
      "2 : 4\n",
      "3 : 4\n",
      "4 : 5\n",
      "5 : 3\n",
      "6 : 6\n",
      "7 : 6\n",
      "8 : 6\n",
      "9 : 4\n",
      "10 : 5\n",
      "11 : 6\n",
      "12 : 5\n",
      "13 : 4\n",
      "14 : 6\n",
      "15 : 3\n",
      "16 : 6\n",
      "17 : 5\n",
      "18 : 3\n",
      "19 : 5\n",
      "20 : 5\n",
      "21 : 3\n",
      "22 : 3\n",
      "23 : 3\n",
      "24 : 6\n",
      "25 : 4\n",
      "26 : 6\n",
      "27 : 4\n",
      "28 : 4\n",
      "29 : 3\n",
      "30 : 3\n",
      "31 : 5\n",
      "32 : 4\n",
      "33 : 6\n",
      "34 : 5\n",
      "35 : 4\n",
      "36 : 4\n",
      "37 : 6\n",
      "38 : 5\n",
      "39 : 4\n",
      "40 : 4\n",
      "41 : 3\n",
      "42 : 6\n",
      "43 : 4\n",
      "44 : 3\n",
      "45 : 6\n",
      "46 : 6\n",
      "47 : 6\n",
      "48 : 4\n",
      "49 : 5\n",
      "50 : 6\n"
     ]
    }
   ],
   "source": [
    "for i in range(50):\n",
    "    print(i+1,':',randint(3,6))"
   ]
  },
  {
   "cell_type": "markdown",
   "metadata": {},
   "source": [
    "Write a program that generates a random number, x, between 1 and 50, a random number y\n",
    "between 2 and 5, and computes x^y ."
   ]
  },
  {
   "cell_type": "code",
   "execution_count": 21,
   "metadata": {},
   "outputs": [
    {
     "name": "stdout",
     "output_type": "stream",
     "text": [
      "x = 46\n",
      "y = 3\n",
      "x**y = 97336\n"
     ]
    }
   ],
   "source": [
    "x = randint(1,50)\n",
    "y = randint(2,5)\n",
    "print('x =',x)\n",
    "print('y =',y)\n",
    "print(\"x**y =\",x**y)"
   ]
  },
  {
   "cell_type": "markdown",
   "metadata": {},
   "source": [
    "Write a program that generates a random number between 1 and 10 and prints your name\n",
    "that many times."
   ]
  },
  {
   "cell_type": "code",
   "execution_count": 23,
   "metadata": {},
   "outputs": [
    {
     "name": "stdout",
     "output_type": "stream",
     "text": [
      "1 Hsn\n",
      "2 Hsn\n",
      "3 Hsn\n",
      "4 Hsn\n",
      "5 Hsn\n",
      "6 Hsn\n",
      "7 Hsn\n",
      "8 Hsn\n"
     ]
    }
   ],
   "source": [
    "for i in range(randint(1,10)):\n",
    "    print(i+1,'Hsn')"
   ]
  },
  {
   "cell_type": "markdown",
   "metadata": {},
   "source": [
    "Write a program that generates a random decimal number between 1 and 10 with two decimal\n",
    "places of accuracy. Examples are 1.23, 3.45, 9.80, and 5.00."
   ]
  },
  {
   "cell_type": "code",
   "execution_count": 60,
   "metadata": {},
   "outputs": [
    {
     "name": "stdout",
     "output_type": "stream",
     "text": [
      "1.58\n"
     ]
    }
   ],
   "source": [
    "print(randint(100,1000)/100)"
   ]
  },
  {
   "cell_type": "markdown",
   "metadata": {},
   "source": [
    "Write a program that generates 50 random numbers such that the first number is between 1\n",
    "and 2, the second is between 1 and 3, the third is between 1 and 4, . . . , and the last is between\n",
    "1 and 51."
   ]
  },
  {
   "cell_type": "code",
   "execution_count": 62,
   "metadata": {},
   "outputs": [
    {
     "name": "stdout",
     "output_type": "stream",
     "text": [
      "1 : 1\n",
      "2 : 1\n",
      "3 : 1\n",
      "4 : 5\n",
      "5 : 3\n",
      "6 : 3\n",
      "7 : 7\n",
      "8 : 6\n",
      "9 : 2\n",
      "10 : 9\n",
      "11 : 3\n",
      "12 : 13\n",
      "13 : 11\n",
      "14 : 15\n",
      "15 : 3\n",
      "16 : 8\n",
      "17 : 9\n",
      "18 : 1\n",
      "19 : 12\n",
      "20 : 2\n",
      "21 : 3\n",
      "22 : 9\n",
      "23 : 23\n",
      "24 : 25\n",
      "25 : 14\n",
      "26 : 27\n",
      "27 : 19\n",
      "28 : 1\n",
      "29 : 21\n",
      "30 : 1\n",
      "31 : 1\n",
      "32 : 11\n",
      "33 : 15\n",
      "34 : 6\n",
      "35 : 7\n",
      "36 : 10\n",
      "37 : 16\n",
      "38 : 3\n",
      "39 : 29\n",
      "40 : 37\n",
      "41 : 13\n",
      "42 : 42\n",
      "43 : 38\n",
      "44 : 11\n",
      "45 : 25\n",
      "46 : 29\n",
      "47 : 14\n",
      "48 : 37\n",
      "49 : 17\n",
      "50 : 48\n"
     ]
    }
   ],
   "source": [
    "for i in range(50):\n",
    "    print(i+1,\":\", randint(1,i+2))"
   ]
  },
  {
   "cell_type": "markdown",
   "metadata": {},
   "source": [
    "Write a program that asks the user to enter two numbers, x and y, and computes |x-y|/\n",
    "(x+y) ."
   ]
  },
  {
   "cell_type": "code",
   "execution_count": 64,
   "metadata": {},
   "outputs": [
    {
     "name": "stdout",
     "output_type": "stream",
     "text": [
      "Enter x: 15\n",
      "Enter y: 20\n"
     ]
    },
    {
     "data": {
      "text/plain": [
       "0.14285714285714285"
      ]
     },
     "execution_count": 64,
     "metadata": {},
     "output_type": "execute_result"
    }
   ],
   "source": [
    "x = int(input(\"Enter x: \"))\n",
    "y = int(input('Enter y: '))\n",
    "\n",
    "abs(x-y)/(x+y)"
   ]
  },
  {
   "cell_type": "markdown",
   "metadata": {},
   "source": [
    "Write a program that asks the user to enter an angle between -180\u000e and 180\u000e. Using an\n",
    "expression with the modulo operator, convert the angle to its equivalent between 0\u000e and\n",
    "360\u000e."
   ]
  },
  {
   "cell_type": "code",
   "execution_count": 69,
   "metadata": {},
   "outputs": [
    {
     "name": "stdout",
     "output_type": "stream",
     "text": [
      "Enter angle between -180 and 180: -90\n",
      "Equivalent angle is:  270\n"
     ]
    }
   ],
   "source": [
    "angle = int(input('Enter angle between -180 and 180: '))\n",
    "print(\"Equivalent angle is: \", angle%360)"
   ]
  },
  {
   "cell_type": "code",
   "execution_count": 71,
   "metadata": {},
   "outputs": [
    {
     "name": "stdout",
     "output_type": "stream",
     "text": [
      "Enter angle between -180 and 180: 75\n",
      "Equivalent angle is:  75\n"
     ]
    }
   ],
   "source": [
    "angle = int(input('Enter angle between -180 and 180: '))\n",
    "print(\"Equivalent angle is: \", angle%360)"
   ]
  },
  {
   "cell_type": "code",
   "execution_count": 72,
   "metadata": {},
   "outputs": [
    {
     "name": "stdout",
     "output_type": "stream",
     "text": [
      "Enter angle between -180 and 180: -45\n",
      "Equivalent angle is:  315\n"
     ]
    }
   ],
   "source": [
    "angle = int(input('Enter angle between -180 and 180: '))\n",
    "print(\"Equivalent angle is: \", angle%360)"
   ]
  },
  {
   "cell_type": "markdown",
   "metadata": {},
   "source": [
    "Write a program that asks the user for a number of seconds and prints out how many minutes\n",
    "and seconds that is. For instance, 200 seconds is 3 minutes and 20 seconds. [Hint: Use the //\n",
    "operator to get minutes and the % operator to get seconds.]"
   ]
  },
  {
   "cell_type": "code",
   "execution_count": 77,
   "metadata": {},
   "outputs": [
    {
     "name": "stdout",
     "output_type": "stream",
     "text": [
      "Enter Seconds: 90\n",
      "1 minutes and 30 seconds.\n"
     ]
    }
   ],
   "source": [
    "seconds = int(input('Enter Seconds: '))\n",
    "print(seconds//60,\"minutes and\", seconds%60, 'seconds.')"
   ]
  },
  {
   "cell_type": "markdown",
   "metadata": {},
   "source": [
    "Write a program that asks the user for an hour between 1 and 12 and for how many hours in\n",
    "the future they want to go. Print out what the hour will be that many hours into the future.\n",
    "An example is shown below."
   ]
  },
  {
   "cell_type": "code",
   "execution_count": 79,
   "metadata": {},
   "outputs": [
    {
     "name": "stdout",
     "output_type": "stream",
     "text": [
      "Enter Hour: 8\n",
      "How many hours ahead: 5\n",
      "New Hour: 1 o'clock.\n"
     ]
    }
   ],
   "source": [
    "hour = int(input(\"Enter Hour: \"))\n",
    "hours_ahead = int(input(\"How many hours ahead: \"))\n",
    "new_hour = (hour + hours_ahead)%12\n",
    "print(\"New Hour:\", new_hour, \"o'clock.\")"
   ]
  },
  {
   "cell_type": "markdown",
   "metadata": {},
   "source": [
    "(a) One way to find out the last digit of a number is to mod the number by 10. Write a\n",
    "program that asks the user to enter a power. Then find the last digit of 2 raised to that\n",
    "power."
   ]
  },
  {
   "cell_type": "code",
   "execution_count": 84,
   "metadata": {},
   "outputs": [
    {
     "name": "stdout",
     "output_type": "stream",
     "text": [
      "Enter power: 200\n",
      "1606938044258990275541962092341162602522202993782792835301376\n",
      "last digit of 2 raised to the power 200 is 6\n"
     ]
    }
   ],
   "source": [
    "power = int(input(\"Enter power: \"))\n",
    "new_num = 2**power\n",
    "print(new_num)\n",
    "print(f\"last digit of 2 raised to the power {power} is {new_num%10}\")"
   ]
  },
  {
   "cell_type": "markdown",
   "metadata": {},
   "source": [
    "One way to find out the last two digits of a number is to mod the number by 100. Write\n",
    "a program that asks the user to enter a power. Then find the last two digits of 2 raised to\n",
    "that power."
   ]
  },
  {
   "cell_type": "code",
   "execution_count": 85,
   "metadata": {},
   "outputs": [
    {
     "name": "stdout",
     "output_type": "stream",
     "text": [
      "Enter power: 200\n",
      "1606938044258990275541962092341162602522202993782792835301376\n",
      "last 2 digits of 2 raised to the power 200 is 76\n"
     ]
    }
   ],
   "source": [
    "power = int(input(\"Enter power: \"))\n",
    "new_num = 2**power\n",
    "print(new_num)\n",
    "print(f\"last 2 digits of 2 raised to the power {power} is {new_num%100}\")"
   ]
  },
  {
   "cell_type": "markdown",
   "metadata": {},
   "source": [
    "Write a program that asks the user to enter a power and how many digits they want.\n",
    "Find the last that many digits of 2 raised to the power the user entered."
   ]
  },
  {
   "cell_type": "code",
   "execution_count": 90,
   "metadata": {},
   "outputs": [
    {
     "name": "stdout",
     "output_type": "stream",
     "text": [
      "Enter power: 200\n",
      "Enter the last digits required: 4\n",
      "1606938044258990275541962092341162602522202993782792835301376\n",
      "last 4 digits of 2 raised to the power 200 is 1376\n"
     ]
    }
   ],
   "source": [
    "power = int(input(\"Enter power: \"))\n",
    "last_digits = int(input(\"Enter the last digits required: \"))\n",
    "new_num = 2**power\n",
    "print(new_num)\n",
    "print(f\"last {last_digits} digits of 2 raised to the power {power} is {str(new_num)[-(last_digits):]}\")"
   ]
  },
  {
   "cell_type": "markdown",
   "metadata": {},
   "source": [
    "Write a program that asks the user to enter a weight in kilograms. The program should\n",
    "convert it to pounds, printing the answer rounded to the nearest tenth of a pound."
   ]
  },
  {
   "cell_type": "code",
   "execution_count": 97,
   "metadata": {},
   "outputs": [
    {
     "name": "stdout",
     "output_type": "stream",
     "text": [
      "Enter weight in kilograms: 22\n",
      "Actual pounds: 48.400000000000006\n",
      "Rounded to the nearest 10th pounds: 50.0\n"
     ]
    }
   ],
   "source": [
    "kgs = int(input(\"Enter weight in kilograms: \"))\n",
    "pounds = kgs*2.2\n",
    "print('Actual pounds:', pounds)\n",
    "print(\"Rounded to the nearest 10th pounds:\",round(pounds,-1))"
   ]
  },
  {
   "cell_type": "markdown",
   "metadata": {},
   "source": [
    "Write a program that asks the user for a number and prints out the factorial of that number."
   ]
  },
  {
   "cell_type": "code",
   "execution_count": 100,
   "metadata": {},
   "outputs": [
    {
     "name": "stdout",
     "output_type": "stream",
     "text": [
      "Enter number to find its factorial: 10\n",
      "3628800\n"
     ]
    }
   ],
   "source": [
    "from math import factorial\n",
    "\n",
    "num = int(input('Enter number to find its factorial: '))\n",
    "print(factorial(num))"
   ]
  },
  {
   "cell_type": "code",
   "execution_count": 101,
   "metadata": {},
   "outputs": [
    {
     "data": {
      "text/plain": [
       "3628800"
      ]
     },
     "execution_count": 101,
     "metadata": {},
     "output_type": "execute_result"
    }
   ],
   "source": [
    "10*9*8*7*6*5*4*3*2*1"
   ]
  },
  {
   "cell_type": "code",
   "execution_count": null,
   "metadata": {},
   "outputs": [],
   "source": []
  }
 ],
 "metadata": {
  "kernelspec": {
   "display_name": "Python 3",
   "language": "python",
   "name": "python3"
  },
  "language_info": {
   "codemirror_mode": {
    "name": "ipython",
    "version": 3
   },
   "file_extension": ".py",
   "mimetype": "text/x-python",
   "name": "python",
   "nbconvert_exporter": "python",
   "pygments_lexer": "ipython3",
   "version": "3.8.5"
  }
 },
 "nbformat": 4,
 "nbformat_minor": 4
}
