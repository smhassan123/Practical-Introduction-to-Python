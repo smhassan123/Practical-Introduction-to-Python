{
 "cells": [
  {
   "cell_type": "markdown",
   "metadata": {},
   "source": [
    "# Exercises"
   ]
  },
  {
   "cell_type": "markdown",
   "metadata": {},
   "source": [
    "Write a program that computes and prints the result of (512-282)/(47*48 + 5). It is roughly .1017."
   ]
  },
  {
   "cell_type": "code",
   "execution_count": 6,
   "metadata": {},
   "outputs": [
    {
     "name": "stdout",
     "output_type": "stream",
     "text": [
      "0.1017249004865104\n"
     ]
    }
   ],
   "source": [
    "print((512-282)/(47*48 + 5))"
   ]
  },
  {
   "cell_type": "markdown",
   "metadata": {},
   "source": [
    "Ask the user to enter a number. Print out the square of the number, but use the sep optional\n",
    "argument to print it out in a full sentence that ends in a period. Sample output is shown\n",
    "below."
   ]
  },
  {
   "cell_type": "code",
   "execution_count": 10,
   "metadata": {},
   "outputs": [
    {
     "name": "stdout",
     "output_type": "stream",
     "text": [
      "Enter a number to be Squared: 5\n",
      "The Square of 5 is 25.\n"
     ]
    }
   ],
   "source": [
    "num = eval(input(\"Enter a number to be Squared: \"))\n",
    "print('The Square of ', num, ' is ', num**2,\".\" ,sep=\"\")"
   ]
  },
  {
   "cell_type": "markdown",
   "metadata": {},
   "source": [
    "Ask the user to enter a number x. Use the sep optional argument to print out x, 2x, 3x, 4x,\n",
    "and 5x, each separated by three dashes."
   ]
  },
  {
   "cell_type": "code",
   "execution_count": 12,
   "metadata": {},
   "outputs": [
    {
     "name": "stdout",
     "output_type": "stream",
     "text": [
      "Enter Number: 7\n",
      "7---14---21---28---35\n"
     ]
    }
   ],
   "source": [
    "x = eval(input(\"Enter Number: \"))\n",
    "print(x , 2*x, 3*x, 4*x, 5*x, sep=\"---\")"
   ]
  },
  {
   "cell_type": "markdown",
   "metadata": {},
   "source": [
    "Write a program that asks the user for a weight in kilograms and converts it to pounds. There\n",
    "are 2.2 pounds in a kilogram."
   ]
  },
  {
   "cell_type": "code",
   "execution_count": 14,
   "metadata": {},
   "outputs": [
    {
     "name": "stdout",
     "output_type": "stream",
     "text": [
      "Enter Weight in Kilograms: 74\n",
      "Weight in pounds is 162.8.\n"
     ]
    }
   ],
   "source": [
    "kg = eval(input('Enter Weight in Kilograms: '))\n",
    "print('Weight in pounds is ', kg*2.2, \".\", sep=\"\")"
   ]
  },
  {
   "cell_type": "markdown",
   "metadata": {},
   "source": [
    "Write a program that asks the user to enter three numbers (use three separate input statements).\n",
    "Create variables called total and average that hold the sum and average of the\n",
    "three numbers and print out the values of total and average."
   ]
  },
  {
   "cell_type": "code",
   "execution_count": 15,
   "metadata": {},
   "outputs": [
    {
     "name": "stdout",
     "output_type": "stream",
     "text": [
      "Enter number 0ne: 2\n",
      "Enter number Two: 4\n",
      "Enter number Three: 5\n",
      "Total is 11, Average is 3.6666666666666665.\n"
     ]
    }
   ],
   "source": [
    "num1 = eval(input('Enter number 0ne: '))\n",
    "num2 = eval(input('Enter number Two: '))\n",
    "num3 = eval(input('Enter number Three: '))\n",
    "total = num1 + num2 + num3\n",
    "average = total/3\n",
    "\n",
    "print('Total is ', total, \", Average is \", average, '.', sep=\"\")"
   ]
  },
  {
   "cell_type": "markdown",
   "metadata": {},
   "source": [
    "A lot of cell phones have tip calculators. Write one. Ask the user for the price of the meal and\n",
    "the percent tip they want to leave. Then print both the tip amount and the total bill with the\n",
    "tip included."
   ]
  },
  {
   "cell_type": "code",
   "execution_count": 20,
   "metadata": {},
   "outputs": [
    {
     "name": "stdout",
     "output_type": "stream",
     "text": [
      "Enter Meal Price: 65\n",
      "Enter Tip Percentage: 10\n",
      "***************\n",
      "Tip amount is 6.5.\n",
      "Total bill amount is 71.5.\n"
     ]
    }
   ],
   "source": [
    "price = eval(input(\"Enter Meal Price: \"))\n",
    "tip = eval(input(\"Enter Tip Percentage: \"))\n",
    "tip_amount = price*(tip/100)\n",
    "print(\"***************\")\n",
    "print(\"Tip amount is \", tip_amount, '.', sep=\"\")\n",
    "print(\"Total bill amount is \", tip_amount+price, '.', sep=\"\")"
   ]
  },
  {
   "cell_type": "code",
   "execution_count": null,
   "metadata": {},
   "outputs": [],
   "source": []
  }
 ],
 "metadata": {
  "kernelspec": {
   "display_name": "Python 3",
   "language": "python",
   "name": "python3"
  },
  "language_info": {
   "codemirror_mode": {
    "name": "ipython",
    "version": 3
   },
   "file_extension": ".py",
   "mimetype": "text/x-python",
   "name": "python",
   "nbconvert_exporter": "python",
   "pygments_lexer": "ipython3",
   "version": "3.8.5"
  }
 },
 "nbformat": 4,
 "nbformat_minor": 4
}
